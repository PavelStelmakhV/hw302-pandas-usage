{
  "cells": [
    {
      "cell_type": "markdown",
      "source": [
        "1. Вывести первые строки таблицы с помощью метода head"
      ],
      "metadata": {
        "id": "b3_ACeCMkwj-"
      },
      "id": "b3_ACeCMkwj-"
    },
    {
      "cell_type": "code",
      "execution_count": 64,
      "id": "f538d2ea",
      "metadata": {
        "colab": {
          "base_uri": "https://localhost:8080/"
        },
        "id": "f538d2ea",
        "outputId": "39852be5-3180-4768-d49b-951511e388d2"
      },
      "outputs": [
        {
          "output_type": "stream",
          "name": "stdout",
          "text": [
            "             Регіон  1950  1960  1970  1990  2000  2012  2014  2019\n",
            "0              Крим  23.0  20.6  16.0  13.0   7.3  12.6     —     —\n",
            "1         Вінницька  22.4  19.2  14.2  12.4   8.4  11.2  10.9   7.6\n",
            "2         Волинська  24.7  25.0  17.9  15.3  11.2  14.8  14.1  10.1\n",
            "3  Дніпропетровська  20.4  20.4  15.1  12.3   7.1  11.2  11.1   7.1\n",
            "4          Донецька  27.1  21.4  14.0  10.9   6.1   9.8   8.2     —\n"
          ]
        }
      ],
      "source": [
        "import pandas as pd\n",
        "import numpy as np\n",
        "import lxml\n",
        "url = 'https://uk.wikipedia.org/wiki/%D0%9D%D0%B0%D1%81%D0%B5%D0%BB%D0%B5%D0%BD%D0%BD%D1%8F_%D0%A3%D0%BA%D1%80%D0%B0%D1%97%D0%BD%D0%B8#%D0%9D%D0%B0%D1%80%D0%BE%D0%B4%D0%B6%D1%83%D0%B2%D0%B0%D0%BD%D1%96%D1%81%D1%82%D1%8C'\n",
        "tmp = pd.read_html(url, match='Коефіцієнт народжуваності в регіонах України ', thousands=' ', decimal=',')\n",
        "df = tmp[0]\n",
        "print(df.head())"
      ]
    },
    {
      "cell_type": "markdown",
      "source": [
        "2. Определите количество строк и столбцов в датафрейме (атрибут shape)"
      ],
      "metadata": {
        "id": "H1aBpvgpu2t1"
      },
      "id": "H1aBpvgpu2t1"
    },
    {
      "cell_type": "code",
      "execution_count": 8,
      "id": "1f222568",
      "metadata": {
        "colab": {
          "base_uri": "https://localhost:8080/"
        },
        "id": "1f222568",
        "outputId": "6bc73645-d7ba-4d7e-ef86-bc8edebad029"
      },
      "outputs": [
        {
          "output_type": "stream",
          "name": "stdout",
          "text": [
            "(28, 9)\n"
          ]
        }
      ],
      "source": [
        "print(df.shape)"
      ]
    },
    {
      "cell_type": "markdown",
      "source": [
        "3. Замените в таблице значения \"—\" на значения NaN"
      ],
      "metadata": {
        "id": "9kJ3krKsu-Lz"
      },
      "id": "9kJ3krKsu-Lz"
    },
    {
      "cell_type": "code",
      "execution_count": 65,
      "id": "1b87aa50",
      "metadata": {
        "id": "1b87aa50"
      },
      "outputs": [],
      "source": [
        "df.replace('—', np.nan, inplace=True)"
      ]
    },
    {
      "cell_type": "markdown",
      "source": [
        "4. Определите типы всех столбцов с помощью dataframe.dtypes"
      ],
      "metadata": {
        "id": "0DMwxvbQ0zXz"
      },
      "id": "0DMwxvbQ0zXz"
    },
    {
      "cell_type": "code",
      "source": [
        "df.dtypes"
      ],
      "metadata": {
        "colab": {
          "base_uri": "https://localhost:8080/"
        },
        "id": "mekDnitM02Zb",
        "outputId": "e80f9807-cc7a-4035-fd55-382eb2723213"
      },
      "id": "mekDnitM02Zb",
      "execution_count": 21,
      "outputs": [
        {
          "output_type": "execute_result",
          "data": {
            "text/plain": [
              "Регіон     object\n",
              "1950      float64\n",
              "1960      float64\n",
              "1970      float64\n",
              "1990      float64\n",
              "2000      float64\n",
              "2012      float64\n",
              "2014       object\n",
              "2019       object\n",
              "dtype: object"
            ]
          },
          "metadata": {},
          "execution_count": 21
        }
      ]
    },
    {
      "cell_type": "markdown",
      "source": [
        "5. Замените типы не числовых колонок на числовые. Подсказка - это колонки где находился символ \"—\""
      ],
      "metadata": {
        "id": "NpIPM3Bf4EwU"
      },
      "id": "NpIPM3Bf4EwU"
    },
    {
      "cell_type": "code",
      "source": [
        "df['2014'] =  df['2014'].astype('float64')\n",
        "df['2019'] =  df['2019'].astype('float64')"
      ],
      "metadata": {
        "id": "t0-BFSba4ETW"
      },
      "id": "t0-BFSba4ETW",
      "execution_count": 66,
      "outputs": []
    },
    {
      "cell_type": "markdown",
      "source": [
        "6. Посчитайте, какая доля пропусков содержится в каждой колонке (используйте методы isnull и sum)"
      ],
      "metadata": {
        "id": "dY6wbiD_5eGi"
      },
      "id": "dY6wbiD_5eGi"
    },
    {
      "cell_type": "code",
      "source": [
        "shr_nan_2014 = round(df['2014'].isnull().sum() / \n",
        "                     (df['2014'].count() + df['2014'].isnull().sum()) * 100, 2)\n",
        "print(f'Доля пропусков в колонке [2014] - {shr_nan_2014}%')\n",
        " \n",
        "shr_nan_2019 = round(df['2019'].isnull().sum() / \n",
        "                     (df['2019'].count() + df['2019'].isnull().sum()) * 100, 2)\n",
        "print(f'Доля пропусков в колонке [2019] - {shr_nan_2019}%') "
      ],
      "metadata": {
        "colab": {
          "base_uri": "https://localhost:8080/"
        },
        "id": "Oen1UF375apd",
        "outputId": "441cf345-9056-4ae6-f914-17e2d908d92b"
      },
      "id": "Oen1UF375apd",
      "execution_count": 52,
      "outputs": [
        {
          "output_type": "stream",
          "name": "stdout",
          "text": [
            "Доля пропусков в колонке [2014] - 7.14%\n",
            "Доля пропусков в колонке [2019] - 14.29%\n"
          ]
        }
      ]
    },
    {
      "cell_type": "markdown",
      "source": [
        "7. Удалите из таблицы данные по всей стране, последняя строчка таблицы"
      ],
      "metadata": {
        "id": "6X7TL9A9CyFk"
      },
      "id": "6X7TL9A9CyFk"
    },
    {
      "cell_type": "code",
      "source": [
        "totalUkraine = df.iloc[27]\n",
        "df.drop([27], axis=0, inplace=True)"
      ],
      "metadata": {
        "id": "bj-yyw2kC3Ob"
      },
      "id": "bj-yyw2kC3Ob",
      "execution_count": 71,
      "outputs": []
    },
    {
      "cell_type": "markdown",
      "source": [
        "8. Замените отсутствующие данные в столбцах средними значениями по этим столбцам (метод fillna)"
      ],
      "metadata": {
        "id": "LZAHyjS1JDKR"
      },
      "id": "LZAHyjS1JDKR"
    },
    {
      "cell_type": "code",
      "source": [
        "df = df.fillna({'1950': df['1950'].mean(), \n",
        "                '1960': df['1960'].mean(), \n",
        "                '1970': df['1970'].mean(),\n",
        "                '1990': df['1990'].mean(),\n",
        "                '2000': df['2000'].mean(),\n",
        "                '2012': df['2012'].mean(),\n",
        "                '2014': df['2014'].mean(),\n",
        "                '2019': df['2019'].mean()\n",
        "                })"
      ],
      "metadata": {
        "id": "7lnPazxSHXg7"
      },
      "id": "7lnPazxSHXg7",
      "execution_count": 79,
      "outputs": []
    },
    {
      "cell_type": "markdown",
      "source": [
        "9. Получите список регионов, где уровень рождаемости в 2019 году был выше среднего по Украине"
      ],
      "metadata": {
        "id": "sayrKf84MgGb"
      },
      "id": "sayrKf84MgGb"
    },
    {
      "cell_type": "code",
      "source": [
        "df.dtypes\n"
      ],
      "metadata": {
        "colab": {
          "base_uri": "https://localhost:8080/"
        },
        "id": "XR6GH_9QLznd",
        "outputId": "d58969af-f233-4040-cef3-349638a65d13"
      },
      "id": "XR6GH_9QLznd",
      "execution_count": 78,
      "outputs": [
        {
          "output_type": "execute_result",
          "data": {
            "text/plain": [
              "Регіон     object\n",
              "1950      float64\n",
              "1960      float64\n",
              "1970      float64\n",
              "1990      float64\n",
              "2000      float64\n",
              "2012      float64\n",
              "2014      float64\n",
              "2019      float64\n",
              "dtype: object"
            ]
          },
          "metadata": {},
          "execution_count": 78
        }
      ]
    }
  ],
  "metadata": {
    "kernelspec": {
      "display_name": "Python 3 (ipykernel)",
      "language": "python",
      "name": "python3"
    },
    "language_info": {
      "codemirror_mode": {
        "name": "ipython",
        "version": 3
      },
      "file_extension": ".py",
      "mimetype": "text/x-python",
      "name": "python",
      "nbconvert_exporter": "python",
      "pygments_lexer": "ipython3",
      "version": "3.10.5"
    },
    "colab": {
      "provenance": []
    }
  },
  "nbformat": 4,
  "nbformat_minor": 5
}