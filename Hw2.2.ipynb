{
  "nbformat": 4,
  "nbformat_minor": 0,
  "metadata": {
    "colab": {
      "provenance": [],
      "authorship_tag": "ABX9TyNV4SpbgxhPQQoBirN/uNIP",
      "include_colab_link": true
    },
    "kernelspec": {
      "name": "python3",
      "display_name": "Python 3"
    },
    "language_info": {
      "name": "python"
    }
  },
  "cells": [
    {
      "cell_type": "markdown",
      "metadata": {
        "id": "view-in-github",
        "colab_type": "text"
      },
      "source": [
        "<a href=\"https://colab.research.google.com/github/PavelStelmakhV/hw302-pandas-usage/blob/main/Hw2.2.ipynb\" target=\"_parent\"><img src=\"https://colab.research.google.com/assets/colab-badge.svg\" alt=\"Open In Colab\"/></a>"
      ]
    },
    {
      "cell_type": "code",
      "execution_count": 2,
      "metadata": {
        "id": "vIRlZdDD7nzC"
      },
      "outputs": [],
      "source": [
        "import pandas as pd"
      ]
    },
    {
      "cell_type": "markdown",
      "source": [
        "1. Прочитайте файл 2017_jun_final.csv с помощью метода read_csv"
      ],
      "metadata": {
        "id": "A8v7nLYE8wnC"
      }
    },
    {
      "cell_type": "code",
      "source": [
        "url = 'https://drive.google.com/file/d/1JMYqXipZpz9Y5-vyxvLEO2Y1sRBxqu-U/view?usp=sharing'\n",
        "url='https://drive.google.com/uc?id=' + url.split('/')[-2]\n",
        "df = pd.read_csv(url)\n",
        "df_init = df.copy()"
      ],
      "metadata": {
        "id": "k5jwtvis8xeR"
      },
      "execution_count": 3,
      "outputs": []
    },
    {
      "cell_type": "markdown",
      "source": [
        "2. Прочитайте полученную таблицу используя метод head"
      ],
      "metadata": {
        "id": "UgE0TbmvJJXp"
      }
    },
    {
      "cell_type": "code",
      "source": [
        "print(df.head())"
      ],
      "metadata": {
        "colab": {
          "base_uri": "https://localhost:8080/"
        },
        "id": "E4Kf3smiJNPT",
        "outputId": "db61d4b0-6edc-4e31-ce52-b7a7ef6a8ad5"
      },
      "execution_count": 4,
      "outputs": [
        {
          "output_type": "stream",
          "name": "stdout",
          "text": [
            "   N                 Должность Язык.программирования Специализация  \\\n",
            "0  1        Junior QA engineer                   NaN     Manual QA   \n",
            "1  2        Junior QA engineer                   NaN     Manual QA   \n",
            "2  3         Software Engineer               C#/.NET           NaN   \n",
            "3  4         Software Engineer            JavaScript           NaN   \n",
            "4  5  Senior Software Engineer            JavaScript           NaN   \n",
            "\n",
            "  Общий.опыт.работы Опыт.работы.на.текущем.месте  Зарплата.в.месяц  \\\n",
            "0               0.5                          0.5               400   \n",
            "1  меньше 3 месяцев             меньше 3 месяцев               430   \n",
            "2                 4                            1              2500   \n",
            "3                 5                            4              2000   \n",
            "4    10 и более лет                          0.5              4500   \n",
            "\n",
            "   Изменение.зарплаты.за.12.месяцев    Город     Размер.компании  ...  \\\n",
            "0                                 0  Харьков       до 10 человек  ...   \n",
            "1                               130  Харьков  свыше 1000 человек  ...   \n",
            "2                               800     Киев     до 1000 человек  ...   \n",
            "3                               400   Одесса      до 200 человек  ...   \n",
            "4                               500   Другой       до 10 человек  ...   \n",
            "\n",
            "  Еще.студент Уровень.английского                    Предметная.область  \\\n",
            "0        True       ниже среднего                         iOS,eCommerce   \n",
            "1        True       выше среднего                        Веб-разработка   \n",
            "2       False             средний  Веб-разработка,Корпоративные системы   \n",
            "3       False       ниже среднего   Desktop Applications,Веб-разработка   \n",
            "4       False             средний   Desktop Applications,Веб-разработка   \n",
            "\n",
            "       Дата.заполнения                                         User.Agent  \\\n",
            "0  12/06/2017 12:38:08  Mozilla/5.0 (Windows NT 10.0; Win64; x64) Appl...   \n",
            "1  12/06/2017 12:42:51  Mozilla/5.0 (iPad; CPU OS 10_2_1 like Mac OS X...   \n",
            "2  12/06/2017 13:02:47  Mozilla/5.0 (Windows NT 10.0; Win64; x64) Appl...   \n",
            "3  12/06/2017 13:03:01  Mozilla/5.0 (Windows NT 6.1; Win64; x64) Apple...   \n",
            "4  12/06/2017 13:03:47  Mozilla/5.0 (iPhone; CPU iPhone OS 10_3_2 like...   \n",
            "\n",
            "    exp current_job_exp salary Валюта  cls  \n",
            "0   0.5             0.5    400    NaN   QA  \n",
            "1   0.0             0.0    430    NaN   QA  \n",
            "2   4.0             1.0   2500    NaN  DEV  \n",
            "3   5.0             4.0   2000    NaN  DEV  \n",
            "4  10.0             0.5   4500    NaN  DEV  \n",
            "\n",
            "[5 rows x 25 columns]\n"
          ]
        }
      ]
    },
    {
      "cell_type": "markdown",
      "source": [
        "3. Определите размер таблицы с помощью метода shape"
      ],
      "metadata": {
        "id": "P0A2deAjJWQb"
      }
    },
    {
      "cell_type": "code",
      "source": [
        "print(df.shape)"
      ],
      "metadata": {
        "colab": {
          "base_uri": "https://localhost:8080/"
        },
        "id": "DybbFdagJYv7",
        "outputId": "f8ce1849-7310-4813-d669-95fbdff74b8c"
      },
      "execution_count": 5,
      "outputs": [
        {
          "output_type": "stream",
          "name": "stdout",
          "text": [
            "(8704, 25)\n"
          ]
        }
      ]
    },
    {
      "cell_type": "markdown",
      "source": [
        "4. Определите типы всех столбцов с помощью dataframe.dtypes"
      ],
      "metadata": {
        "id": "uXQZsdO8JnDk"
      }
    },
    {
      "cell_type": "code",
      "source": [
        "df.dtypes"
      ],
      "metadata": {
        "colab": {
          "base_uri": "https://localhost:8080/"
        },
        "id": "Xqq9TjGDJoUj",
        "outputId": "b8ce098a-dbb1-412c-ffa4-a16d6243afa7"
      },
      "execution_count": 6,
      "outputs": [
        {
          "output_type": "execute_result",
          "data": {
            "text/plain": [
              "N                                     int64\n",
              "Должность                            object\n",
              "Язык.программирования                object\n",
              "Специализация                        object\n",
              "Общий.опыт.работы                    object\n",
              "Опыт.работы.на.текущем.месте         object\n",
              "Зарплата.в.месяц                      int64\n",
              "Изменение.зарплаты.за.12.месяцев      int64\n",
              "Город                                object\n",
              "Размер.компании                      object\n",
              "Тип.компании                         object\n",
              "Пол                                  object\n",
              "Возраст                               int64\n",
              "Образование                          object\n",
              "Университет                          object\n",
              "Еще.студент                            bool\n",
              "Уровень.английского                  object\n",
              "Предметная.область                   object\n",
              "Дата.заполнения                      object\n",
              "User.Agent                           object\n",
              "exp                                 float64\n",
              "current_job_exp                     float64\n",
              "salary                                int64\n",
              "Валюта                               object\n",
              "cls                                  object\n",
              "dtype: object"
            ]
          },
          "metadata": {},
          "execution_count": 6
        }
      ]
    },
    {
      "cell_type": "markdown",
      "source": [
        "5. Посчитайте, какая доля пропусков содержится в каждой колонке (используйте методы isnull и sum)"
      ],
      "metadata": {
        "id": "U3hdc6P0J6dC"
      }
    },
    {
      "cell_type": "code",
      "source": [
        "print(df.isnull().sum())"
      ],
      "metadata": {
        "colab": {
          "base_uri": "https://localhost:8080/"
        },
        "id": "JUuJwi2XJ8bi",
        "outputId": "12d08c97-4d24-4a42-c7ca-f529ac3c371c"
      },
      "execution_count": 7,
      "outputs": [
        {
          "output_type": "stream",
          "name": "stdout",
          "text": [
            "N                                      0\n",
            "Должность                              0\n",
            "Язык.программирования               3850\n",
            "Специализация                       7219\n",
            "Общий.опыт.работы                      0\n",
            "Опыт.работы.на.текущем.месте           0\n",
            "Зарплата.в.месяц                       0\n",
            "Изменение.зарплаты.за.12.месяцев       0\n",
            "Город                                  0\n",
            "Размер.компании                        0\n",
            "Тип.компании                           0\n",
            "Пол                                    0\n",
            "Возраст                                0\n",
            "Образование                            0\n",
            "Университет                          358\n",
            "Еще.студент                            0\n",
            "Уровень.английского                    0\n",
            "Предметная.область                   223\n",
            "Дата.заполнения                        0\n",
            "User.Agent                             0\n",
            "exp                                    0\n",
            "current_job_exp                        0\n",
            "salary                                 0\n",
            "Валюта                              8694\n",
            "cls                                 1574\n",
            "dtype: int64\n"
          ]
        }
      ]
    },
    {
      "cell_type": "markdown",
      "source": [
        "6. Удалите все столбцы с пропусками, кроме столбца \"Язык.программирования\""
      ],
      "metadata": {
        "id": "qKYiFC7sQJBI"
      }
    },
    {
      "cell_type": "code",
      "source": [
        "columns_for_delete = []\n",
        "for column in df.columns:\n",
        "  if df[column].isnull().sum() > 0:\n",
        "    columns_for_delete.append(column)\n",
        "columns_for_delete.remove('Язык.программирования')\n",
        "df.drop(columns_for_delete, axis=1, inplace=True)"
      ],
      "metadata": {
        "id": "J7S1QwepQLZg"
      },
      "execution_count": 8,
      "outputs": []
    },
    {
      "cell_type": "markdown",
      "source": [
        "7. Опять посчитайте, какая доля пропусков содержится в каждой колонке и убедитесь, что остался только столбец \"Язык.программирования\""
      ],
      "metadata": {
        "id": "_MWoFGLXUVTR"
      }
    },
    {
      "cell_type": "code",
      "source": [
        "print(df.isnull().sum())"
      ],
      "metadata": {
        "colab": {
          "base_uri": "https://localhost:8080/"
        },
        "id": "SUSXRXp2UXZo",
        "outputId": "ab120755-db5a-4f24-aea9-c6f5b69cd871"
      },
      "execution_count": 9,
      "outputs": [
        {
          "output_type": "stream",
          "name": "stdout",
          "text": [
            "N                                      0\n",
            "Должность                              0\n",
            "Язык.программирования               3850\n",
            "Общий.опыт.работы                      0\n",
            "Опыт.работы.на.текущем.месте           0\n",
            "Зарплата.в.месяц                       0\n",
            "Изменение.зарплаты.за.12.месяцев       0\n",
            "Город                                  0\n",
            "Размер.компании                        0\n",
            "Тип.компании                           0\n",
            "Пол                                    0\n",
            "Возраст                                0\n",
            "Образование                            0\n",
            "Еще.студент                            0\n",
            "Уровень.английского                    0\n",
            "Дата.заполнения                        0\n",
            "User.Agent                             0\n",
            "exp                                    0\n",
            "current_job_exp                        0\n",
            "salary                                 0\n",
            "dtype: int64\n"
          ]
        }
      ]
    },
    {
      "cell_type": "markdown",
      "source": [
        "8. Удалите все строки в исходной таблице с помощью метода dropna"
      ],
      "metadata": {
        "id": "iiUdUBemU4_Z"
      }
    },
    {
      "cell_type": "code",
      "source": [
        "df.dropna(axis=0, inplace=True)"
      ],
      "metadata": {
        "id": "5Q8BB9QwVYmO"
      },
      "execution_count": 10,
      "outputs": []
    },
    {
      "cell_type": "markdown",
      "source": [
        "9. Определите новый размер таблицы с помощью метода shape"
      ],
      "metadata": {
        "id": "b7pkWk0aVl-H"
      }
    },
    {
      "cell_type": "code",
      "source": [
        "print(df.shape)"
      ],
      "metadata": {
        "colab": {
          "base_uri": "https://localhost:8080/"
        },
        "id": "oBQBrg0lVu9t",
        "outputId": "aaaf1f2f-840f-46ea-8dba-c2ce85656c3d"
      },
      "execution_count": 11,
      "outputs": [
        {
          "output_type": "stream",
          "name": "stdout",
          "text": [
            "(4854, 20)\n"
          ]
        }
      ]
    },
    {
      "cell_type": "markdown",
      "source": [
        "10. Создайте новую таблицу python_data в которой будут только строки со специалистами указавшими язык программирования Python"
      ],
      "metadata": {
        "id": "88BvH8mUXsMq"
      }
    },
    {
      "cell_type": "code",
      "source": [
        "python_data = df.loc[df['Язык.программирования']=='Python']"
      ],
      "metadata": {
        "id": "0R8NLIryXtsi"
      },
      "execution_count": 12,
      "outputs": []
    },
    {
      "cell_type": "markdown",
      "source": [
        "11. Определите размер таблицы python_data с помощью метода shape"
      ],
      "metadata": {
        "id": "zOgp0B93awA1"
      }
    },
    {
      "cell_type": "code",
      "source": [
        "print(python_data.shape)"
      ],
      "metadata": {
        "colab": {
          "base_uri": "https://localhost:8080/"
        },
        "id": "ymf9wBiKazzc",
        "outputId": "14f7fdb3-ce14-4565-d225-1997a7aa847c"
      },
      "execution_count": 13,
      "outputs": [
        {
          "output_type": "stream",
          "name": "stdout",
          "text": [
            "(207, 20)\n"
          ]
        }
      ]
    },
    {
      "cell_type": "markdown",
      "source": [
        "12. Используя метод groupby выполните группировку по столбцу \"Должность\""
      ],
      "metadata": {
        "id": "0BP8sRUxa7R0"
      }
    },
    {
      "cell_type": "code",
      "source": [
        "df.groupby(['Должность'])"
      ],
      "metadata": {
        "id": "tMpGFVP-a8kj",
        "colab": {
          "base_uri": "https://localhost:8080/"
        },
        "outputId": "99a144e1-c0d8-4612-c05a-023555637222"
      },
      "execution_count": 14,
      "outputs": [
        {
          "output_type": "execute_result",
          "data": {
            "text/plain": [
              "<pandas.core.groupby.generic.DataFrameGroupBy object at 0x7f02e8a5b9a0>"
            ]
          },
          "metadata": {},
          "execution_count": 14
        }
      ]
    },
    {
      "cell_type": "markdown",
      "source": [
        "13. Создайте новый DataFrame, где для сгруппированных данных по столбцу \"Должность\", выполните агрегацию данных с помощью метода agg и найдите минимальное и максимальное значение в столбце \"Зарплата.в.месяц\""
      ],
      "metadata": {
        "id": "GBXBWB02_0j2"
      }
    },
    {
      "cell_type": "code",
      "source": [
        "new_df = df.groupby(['Должность'])['Зарплата.в.месяц'].agg(['min', 'max']).copy()\n",
        "print(new_df)"
      ],
      "metadata": {
        "colab": {
          "base_uri": "https://localhost:8080/"
        },
        "id": "yw4iNtrU_6Ve",
        "outputId": "ea1f34df-d2c4-495a-e208-890c9e1d77c0"
      },
      "execution_count": 15,
      "outputs": [
        {
          "output_type": "stream",
          "name": "stdout",
          "text": [
            "                                min    max\n",
            "Должность                                 \n",
            "Data Scientist / Data Analyst  2700   2700\n",
            "DevOps                         7000   7000\n",
            "ERP / CRM                      2000   2000\n",
            "HTML coder                      385    600\n",
            "Junior Software Engineer         75   2600\n",
            "Product Manager                3000   3000\n",
            "Senior Software Engineer        350   9200\n",
            "Software Engineer               100   7000\n",
            "System Architect                400  10000\n",
            "Team lead                      2500   4000\n",
            "Technical Lead                  500  18000\n"
          ]
        }
      ]
    },
    {
      "cell_type": "markdown",
      "source": [
        "14. Создайте функцию fill_avg_salary которая будет возвращать среднее значение заработной платы в месяц. Используйте ее для метода apply и создайте новый столбик \"avg\""
      ],
      "metadata": {
        "id": "9EWiYNtEEw0X"
      }
    },
    {
      "cell_type": "code",
      "source": [
        "def fill_avg_salary(job_title):\n",
        "  return df.loc[df['Должность'] == job_title]['Зарплата.в.месяц'].mean()\n",
        "\n",
        "df['avg'] = df.apply(lambda x: fill_avg_salary(x['Должность']), axis =  1)"
      ],
      "metadata": {
        "id": "2-6vi3ZXDFjR"
      },
      "execution_count": 16,
      "outputs": []
    },
    {
      "cell_type": "markdown",
      "source": [
        "15. Создайте описательную статистику с помощью метода describe для нового столбца."
      ],
      "metadata": {
        "id": "VcS3JVGRTXVu"
      }
    },
    {
      "cell_type": "code",
      "source": [
        "df['avg'].describe()"
      ],
      "metadata": {
        "colab": {
          "base_uri": "https://localhost:8080/"
        },
        "id": "L80SKAJqTYrd",
        "outputId": "51b72f6d-08dc-470e-e26d-2c8927cc9940"
      },
      "execution_count": 17,
      "outputs": [
        {
          "output_type": "execute_result",
          "data": {
            "text/plain": [
              "count    4854.000000\n",
              "mean     1883.371034\n",
              "std      1056.802546\n",
              "min       457.000000\n",
              "25%       605.658594\n",
              "50%      1678.630074\n",
              "75%      3243.200926\n",
              "max      7000.000000\n",
              "Name: avg, dtype: float64"
            ]
          },
          "metadata": {},
          "execution_count": 17
        }
      ]
    },
    {
      "cell_type": "markdown",
      "source": [
        "16. Сохраните полученную таблицу в CSV файл"
      ],
      "metadata": {
        "id": "Xez8iGwjUjq8"
      }
    },
    {
      "cell_type": "code",
      "source": [
        "from google.colab import drive\n",
        "drive.mount('/content/drive')\n",
        "path = '/content/drive/My Drive/output.csv'\n",
        "with open(path, 'w', encoding = 'utf-8-sig') as fh:\n",
        "  df.to_csv(fh)"
      ],
      "metadata": {
        "colab": {
          "base_uri": "https://localhost:8080/"
        },
        "id": "RPFQl2TqUoBj",
        "outputId": "de637269-7380-4d74-8eef-4fa7967ee09a"
      },
      "execution_count": 18,
      "outputs": [
        {
          "output_type": "stream",
          "name": "stdout",
          "text": [
            "Mounted at /content/drive\n"
          ]
        }
      ]
    },
    {
      "cell_type": "markdown",
      "source": [
        "# Визуализация данных"
      ],
      "metadata": {
        "id": "dh5Tk7MEoOcT"
      }
    },
    {
      "cell_type": "code",
      "source": [
        "import matplotlib.pyplot as plt"
      ],
      "metadata": {
        "id": "QY3DFNIfoQ9s"
      },
      "execution_count": 28,
      "outputs": []
    },
    {
      "cell_type": "code",
      "source": [
        "ax = new_df.plot.barh(stacked=True, color={\"min\": \"white\", \"max\": \"green\"}, figsize=(12, 8), legend=False)\n",
        "plt.title('Диапазон средних зарплат в месяц', color = 'blue', fontsize = 'x-large')\n",
        "plt.xlabel('Зарплата в месяц', color = 'blue', fontsize = 'large')\n",
        "plt.ylabel('Должность', color = 'blue', fontsize = 'large')\n",
        "plt.grid(ls = '--', axis = 'x')"
      ],
      "metadata": {
        "id": "hA2LtXKDGCfr",
        "outputId": "93aa6630-6eba-448c-9915-d620fee37650",
        "colab": {
          "base_uri": "https://localhost:8080/",
          "height": 517
        }
      },
      "execution_count": 37,
      "outputs": [
        {
          "output_type": "display_data",
          "data": {
            "text/plain": [
              "<Figure size 864x576 with 1 Axes>"
            ],
            "image/png": "[encoded data removed]"
          },
          "metadata": {
            "needs_background": "light"
          }
        }
      ]
    },
    {
      "cell_type": "code",
      "source": [
        "\n",
        "labels = [\n",
        "    \"Junior Software Engineer\",\n",
        "    \"Senior Software Engineer\",\n",
        "    \"Software Engineer\",\n",
        "    \"System Architect\",\n",
        "    \"Technical Lead\",\n",
        "]\n",
        "\n",
        "data = [63, 31, 100, 2, 11]\n",
        "explode = [0.15, 0, 0, 0, 0]\n",
        "plt.pie(\n",
        "    data,\n",
        "    labels=labels,\n",
        "    shadow=True,\n",
        "    explode=explode,\n",
        "    autopct=\"%.2f%%\",\n",
        "    pctdistance=1.15,\n",
        "    labeldistance=1.35,\n",
        ")\n",
        "\n",
        "plt.show()"
      ],
      "metadata": {
        "id": "mR8h0dOnCybx"
      },
      "execution_count": null,
      "outputs": []
    }
  ]
}