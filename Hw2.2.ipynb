{
  "nbformat": 4,
  "nbformat_minor": 0,
  "metadata": {
    "colab": {
      "provenance": [],
      "authorship_tag": "ABX9TyOqA0WkTqOJYetyviubsEXX",
      "include_colab_link": true
    },
    "kernelspec": {
      "name": "python3",
      "display_name": "Python 3"
    },
    "language_info": {
      "name": "python"
    }
  },
  "cells": [
    {
      "cell_type": "markdown",
      "metadata": {
        "id": "view-in-github",
        "colab_type": "text"
      },
      "source": [
        "<a href=\"https://colab.research.google.com/github/PavelStelmakhV/hw302-pandas-usage/blob/main/Hw2.2.ipynb\" target=\"_parent\"><img src=\"https://colab.research.google.com/assets/colab-badge.svg\" alt=\"Open In Colab\"/></a>"
      ]
    },
    {
      "cell_type": "code",
      "execution_count": 50,
      "metadata": {
        "id": "vIRlZdDD7nzC"
      },
      "outputs": [],
      "source": [
        "import pandas as pd"
      ]
    },
    {
      "cell_type": "markdown",
      "source": [
        "1. Прочитайте файл 2017_jun_final.csv с помощью метода read_csv"
      ],
      "metadata": {
        "id": "A8v7nLYE8wnC"
      }
    },
    {
      "cell_type": "code",
      "source": [
        "url = 'https://drive.google.com/file/d/1JMYqXipZpz9Y5-vyxvLEO2Y1sRBxqu-U/view?usp=sharing'\n",
        "url='https://drive.google.com/uc?id=' + url.split('/')[-2]\n",
        "df = pd.read_csv(url)"
      ],
      "metadata": {
        "id": "k5jwtvis8xeR"
      },
      "execution_count": 51,
      "outputs": []
    },
    {
      "cell_type": "markdown",
      "source": [
        "2. Прочитайте полученную таблицу используя метод head"
      ],
      "metadata": {
        "id": "UgE0TbmvJJXp"
      }
    },
    {
      "cell_type": "code",
      "source": [
        "print(df.head())"
      ],
      "metadata": {
        "colab": {
          "base_uri": "https://localhost:8080/"
        },
        "id": "E4Kf3smiJNPT",
        "outputId": "e50e96d7-e86c-4460-b220-4d283c53391d"
      },
      "execution_count": 52,
      "outputs": [
        {
          "output_type": "stream",
          "name": "stdout",
          "text": [
            "   N                 Должность Язык.программирования Специализация  \\\n",
            "0  1        Junior QA engineer                   NaN     Manual QA   \n",
            "1  2        Junior QA engineer                   NaN     Manual QA   \n",
            "2  3         Software Engineer               C#/.NET           NaN   \n",
            "3  4         Software Engineer            JavaScript           NaN   \n",
            "4  5  Senior Software Engineer            JavaScript           NaN   \n",
            "\n",
            "  Общий.опыт.работы Опыт.работы.на.текущем.месте  Зарплата.в.месяц  \\\n",
            "0               0.5                          0.5               400   \n",
            "1  меньше 3 месяцев             меньше 3 месяцев               430   \n",
            "2                 4                            1              2500   \n",
            "3                 5                            4              2000   \n",
            "4    10 и более лет                          0.5              4500   \n",
            "\n",
            "   Изменение.зарплаты.за.12.месяцев    Город     Размер.компании  ...  \\\n",
            "0                                 0  Харьков       до 10 человек  ...   \n",
            "1                               130  Харьков  свыше 1000 человек  ...   \n",
            "2                               800     Киев     до 1000 человек  ...   \n",
            "3                               400   Одесса      до 200 человек  ...   \n",
            "4                               500   Другой       до 10 человек  ...   \n",
            "\n",
            "  Еще.студент Уровень.английского                    Предметная.область  \\\n",
            "0        True       ниже среднего                         iOS,eCommerce   \n",
            "1        True       выше среднего                        Веб-разработка   \n",
            "2       False             средний  Веб-разработка,Корпоративные системы   \n",
            "3       False       ниже среднего   Desktop Applications,Веб-разработка   \n",
            "4       False             средний   Desktop Applications,Веб-разработка   \n",
            "\n",
            "       Дата.заполнения                                         User.Agent  \\\n",
            "0  12/06/2017 12:38:08  Mozilla/5.0 (Windows NT 10.0; Win64; x64) Appl...   \n",
            "1  12/06/2017 12:42:51  Mozilla/5.0 (iPad; CPU OS 10_2_1 like Mac OS X...   \n",
            "2  12/06/2017 13:02:47  Mozilla/5.0 (Windows NT 10.0; Win64; x64) Appl...   \n",
            "3  12/06/2017 13:03:01  Mozilla/5.0 (Windows NT 6.1; Win64; x64) Apple...   \n",
            "4  12/06/2017 13:03:47  Mozilla/5.0 (iPhone; CPU iPhone OS 10_3_2 like...   \n",
            "\n",
            "    exp current_job_exp salary Валюта  cls  \n",
            "0   0.5             0.5    400    NaN   QA  \n",
            "1   0.0             0.0    430    NaN   QA  \n",
            "2   4.0             1.0   2500    NaN  DEV  \n",
            "3   5.0             4.0   2000    NaN  DEV  \n",
            "4  10.0             0.5   4500    NaN  DEV  \n",
            "\n",
            "[5 rows x 25 columns]\n"
          ]
        }
      ]
    },
    {
      "cell_type": "markdown",
      "source": [
        "3. Определите размер таблицы с помощью метода shape"
      ],
      "metadata": {
        "id": "P0A2deAjJWQb"
      }
    },
    {
      "cell_type": "code",
      "source": [
        "print(df.shape)"
      ],
      "metadata": {
        "colab": {
          "base_uri": "https://localhost:8080/"
        },
        "id": "DybbFdagJYv7",
        "outputId": "b43b7c47-0a70-4cee-fb04-28ecaf7900de"
      },
      "execution_count": 53,
      "outputs": [
        {
          "output_type": "stream",
          "name": "stdout",
          "text": [
            "(8704, 25)\n"
          ]
        }
      ]
    },
    {
      "cell_type": "markdown",
      "source": [
        "4. Определите типы всех столбцов с помощью dataframe.dtypes"
      ],
      "metadata": {
        "id": "uXQZsdO8JnDk"
      }
    },
    {
      "cell_type": "code",
      "source": [
        "df.dtypes"
      ],
      "metadata": {
        "colab": {
          "base_uri": "https://localhost:8080/"
        },
        "id": "Xqq9TjGDJoUj",
        "outputId": "34bd442d-f932-4d52-e33d-b76c009bfeb7"
      },
      "execution_count": 54,
      "outputs": [
        {
          "output_type": "execute_result",
          "data": {
            "text/plain": [
              "N                                     int64\n",
              "Должность                            object\n",
              "Язык.программирования                object\n",
              "Специализация                        object\n",
              "Общий.опыт.работы                    object\n",
              "Опыт.работы.на.текущем.месте         object\n",
              "Зарплата.в.месяц                      int64\n",
              "Изменение.зарплаты.за.12.месяцев      int64\n",
              "Город                                object\n",
              "Размер.компании                      object\n",
              "Тип.компании                         object\n",
              "Пол                                  object\n",
              "Возраст                               int64\n",
              "Образование                          object\n",
              "Университет                          object\n",
              "Еще.студент                            bool\n",
              "Уровень.английского                  object\n",
              "Предметная.область                   object\n",
              "Дата.заполнения                      object\n",
              "User.Agent                           object\n",
              "exp                                 float64\n",
              "current_job_exp                     float64\n",
              "salary                                int64\n",
              "Валюта                               object\n",
              "cls                                  object\n",
              "dtype: object"
            ]
          },
          "metadata": {},
          "execution_count": 54
        }
      ]
    },
    {
      "cell_type": "markdown",
      "source": [
        "5. Посчитайте, какая доля пропусков содержится в каждой колонке (используйте методы isnull и sum)"
      ],
      "metadata": {
        "id": "U3hdc6P0J6dC"
      }
    },
    {
      "cell_type": "code",
      "source": [
        "print(df.isnull().sum())"
      ],
      "metadata": {
        "colab": {
          "base_uri": "https://localhost:8080/"
        },
        "id": "JUuJwi2XJ8bi",
        "outputId": "e3a8f49b-d4a4-4f1e-d0d0-ffa5e2d3c567"
      },
      "execution_count": 64,
      "outputs": [
        {
          "output_type": "stream",
          "name": "stdout",
          "text": [
            "N                                   0\n",
            "Должность                           0\n",
            "Язык.программирования               0\n",
            "Общий.опыт.работы                   0\n",
            "Опыт.работы.на.текущем.месте        0\n",
            "Зарплата.в.месяц                    0\n",
            "Изменение.зарплаты.за.12.месяцев    0\n",
            "Город                               0\n",
            "Размер.компании                     0\n",
            "Тип.компании                        0\n",
            "Пол                                 0\n",
            "Возраст                             0\n",
            "Образование                         0\n",
            "Еще.студент                         0\n",
            "Уровень.английского                 0\n",
            "Дата.заполнения                     0\n",
            "User.Agent                          0\n",
            "exp                                 0\n",
            "current_job_exp                     0\n",
            "salary                              0\n",
            "dtype: int64\n"
          ]
        }
      ]
    },
    {
      "cell_type": "markdown",
      "source": [
        "6. Удалите все столбцы с пропусками, кроме столбца \"Язык.программирования\""
      ],
      "metadata": {
        "id": "qKYiFC7sQJBI"
      }
    },
    {
      "cell_type": "code",
      "source": [
        "columns_for_delete = []\n",
        "for column in df.columns:\n",
        "  if df[column].isnull().sum() > 0:\n",
        "    columns_for_delete.append(column)\n",
        "columns_for_delete.remove('Язык.программирования')\n",
        "df.drop(columns_for_delete, axis=1, inplace=True)"
      ],
      "metadata": {
        "id": "J7S1QwepQLZg"
      },
      "execution_count": 56,
      "outputs": []
    },
    {
      "cell_type": "markdown",
      "source": [
        "7. Опять посчитайте, какая доля пропусков содержится в каждой колонке и убедитесь, что остался только столбец \"Язык.программирования\""
      ],
      "metadata": {
        "id": "_MWoFGLXUVTR"
      }
    },
    {
      "cell_type": "code",
      "source": [
        "print(df.isnull().sum())"
      ],
      "metadata": {
        "colab": {
          "base_uri": "https://localhost:8080/"
        },
        "id": "SUSXRXp2UXZo",
        "outputId": "f31143c8-a2ae-4bb7-9aad-351e50d61f01"
      },
      "execution_count": 57,
      "outputs": [
        {
          "output_type": "stream",
          "name": "stdout",
          "text": [
            "Доля пропусков для колонок:\n",
            "N - 0.0%\n",
            "Должность - 0.0%\n",
            "Язык.программирования - 44.23%\n",
            "Общий.опыт.работы - 0.0%\n",
            "Опыт.работы.на.текущем.месте - 0.0%\n",
            "Зарплата.в.месяц - 0.0%\n",
            "Изменение.зарплаты.за.12.месяцев - 0.0%\n",
            "Город - 0.0%\n",
            "Размер.компании - 0.0%\n",
            "Тип.компании - 0.0%\n",
            "Пол - 0.0%\n",
            "Возраст - 0.0%\n",
            "Образование - 0.0%\n",
            "Еще.студент - 0.0%\n",
            "Уровень.английского - 0.0%\n",
            "Дата.заполнения - 0.0%\n",
            "User.Agent - 0.0%\n",
            "exp - 0.0%\n",
            "current_job_exp - 0.0%\n",
            "salary - 0.0%\n"
          ]
        }
      ]
    },
    {
      "cell_type": "markdown",
      "source": [
        "8. Удалите все строки в исходной таблице с помощью метода dropna"
      ],
      "metadata": {
        "id": "iiUdUBemU4_Z"
      }
    },
    {
      "cell_type": "code",
      "source": [
        "df.dropna(axis=0, inplace=True)"
      ],
      "metadata": {
        "id": "5Q8BB9QwVYmO"
      },
      "execution_count": 61,
      "outputs": []
    },
    {
      "cell_type": "markdown",
      "source": [
        "9. Определите новый размер таблицы с помощью метода shape"
      ],
      "metadata": {
        "id": "b7pkWk0aVl-H"
      }
    },
    {
      "cell_type": "code",
      "source": [
        "print(df.shape)"
      ],
      "metadata": {
        "colab": {
          "base_uri": "https://localhost:8080/"
        },
        "id": "oBQBrg0lVu9t",
        "outputId": "8026838a-651f-477a-ce1b-f6ae1d88f861"
      },
      "execution_count": 63,
      "outputs": [
        {
          "output_type": "stream",
          "name": "stdout",
          "text": [
            "(4854, 20)\n"
          ]
        }
      ]
    },
    {
      "cell_type": "markdown",
      "source": [
        "10. Создайте новую таблицу python_data в которой будут только строки со специалистами указавшими язык программирования Python"
      ],
      "metadata": {
        "id": "88BvH8mUXsMq"
      }
    },
    {
      "cell_type": "code",
      "source": [
        "python_data = df.loc[df['Язык.программирования']=='Python']"
      ],
      "metadata": {
        "id": "0R8NLIryXtsi"
      },
      "execution_count": 67,
      "outputs": []
    },
    {
      "cell_type": "markdown",
      "source": [
        "11. Определите размер таблицы python_data с помощью метода shape"
      ],
      "metadata": {
        "id": "zOgp0B93awA1"
      }
    },
    {
      "cell_type": "code",
      "source": [
        "print(python_data.shape)"
      ],
      "metadata": {
        "colab": {
          "base_uri": "https://localhost:8080/"
        },
        "id": "ymf9wBiKazzc",
        "outputId": "d06f2fed-13f6-4110-c9b9-d9896607445a"
      },
      "execution_count": 68,
      "outputs": [
        {
          "output_type": "stream",
          "name": "stdout",
          "text": [
            "(207, 20)\n"
          ]
        }
      ]
    },
    {
      "cell_type": "markdown",
      "source": [
        "12. Используя метод groupby выполните группировку по столбцу \"Должность\""
      ],
      "metadata": {
        "id": "0BP8sRUxa7R0"
      }
    },
    {
      "cell_type": "code",
      "source": [],
      "metadata": {
        "id": "tMpGFVP-a8kj"
      },
      "execution_count": null,
      "outputs": []
    }
  ]
}