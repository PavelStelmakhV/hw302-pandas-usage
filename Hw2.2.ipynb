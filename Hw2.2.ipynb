{
  "nbformat": 4,
  "nbformat_minor": 0,
  "metadata": {
    "colab": {
      "provenance": [],
      "authorship_tag": "ABX9TyP7TToJ5mCcSERE1bSMpvGE",
      "include_colab_link": true
    },
    "kernelspec": {
      "name": "python3",
      "display_name": "Python 3"
    },
    "language_info": {
      "name": "python"
    }
  },
  "cells": [
    {
      "cell_type": "markdown",
      "metadata": {
        "id": "view-in-github",
        "colab_type": "text"
      },
      "source": [
        "<a href=\"https://colab.research.google.com/github/PavelStelmakhV/hw302-pandas-usage/blob/main/Hw2.2.ipynb\" target=\"_parent\"><img src=\"https://colab.research.google.com/assets/colab-badge.svg\" alt=\"Open In Colab\"/></a>"
      ]
    },
    {
      "cell_type": "code",
      "execution_count": 1,
      "metadata": {
        "id": "vIRlZdDD7nzC"
      },
      "outputs": [],
      "source": [
        "import pandas as pd"
      ]
    },
    {
      "cell_type": "markdown",
      "source": [
        "1. Прочитайте файл 2017_jun_final.csv с помощью метода read_csv"
      ],
      "metadata": {
        "id": "A8v7nLYE8wnC"
      }
    },
    {
      "cell_type": "code",
      "source": [
        "url = 'https://drive.google.com/file/d/1JMYqXipZpz9Y5-vyxvLEO2Y1sRBxqu-U/view?usp=sharing'\n",
        "df = pd.read_csv(url)\n",
        "print(df.head())"
      ],
      "metadata": {
        "colab": {
          "base_uri": "https://localhost:8080/"
        },
        "id": "k5jwtvis8xeR",
        "outputId": "5e74bbad-171b-41d9-fa3a-9e3140a3bd80"
      },
      "execution_count": 6,
      "outputs": [
        {
          "output_type": "stream",
          "name": "stdout",
          "text": [
            "  <!DOCTYPE html><html><head><meta name=\"google\" content=\"notranslate\"><meta http-equiv=\"X-UA-Compatible\" content=\"IE=edge;\"><style nonce=\"3Ntd1L8pL-A7p8AjqyaLvA\">@font-face{font-family:'Roboto';font-style:italic;font-weight:400;src:url(//fonts.gstatic.com/s/roboto/v18/KFOkCnqEu92Fr1Mu51xIIzc.ttf)format('truetype');}@font-face{font-family:'Roboto';font-style:normal;font-weight:300;src:url(//fonts.gstatic.com/s/roboto/v18/KFOlCnqEu92Fr1MmSU5fBBc9.ttf)format('truetype');}@font-face{font-family:'Roboto';font-style:normal;font-weight:400;src:url(//fonts.gstatic.com/s/roboto/v18/KFOmCnqEu92Fr1Mu4mxP.ttf)format('truetype');}@font-face{font-family:'Roboto';font-style:normal;font-weight:500;src:url(//fonts.gstatic.com/s/roboto/v18/KFOlCnqEu92Fr1MmEU9fBBc9.ttf)format('truetype');}@font-face{font-family:'Roboto';font-style:normal;font-weight:700;src:url(//fonts.gstatic.com/s/roboto/v18/KFOlCnqEu92Fr1MmWUlfBBc9.ttf)format('truetype');}</style><meta name=\"referrer\" content=\"origin\"><title>2017_jun_final.csv - Google Drive</title><meta property=\"og:title\" content=\"2017_jun_final.csv\"><meta property=\"og:type\" content=\"article\"><meta property=\"og:site_name\" content=\"Google Docs\"><meta property=\"og:url\" content=\"https://drive.google.com/file/d/1JMYqXipZpz9Y5-vyxvLEO2Y1sRBxqu-U/view?usp=sharing&amp;usp=embed_facebook\"><link rel=\"shortcut icon\" href=\"https://ssl.gstatic.com/images/branding/product/1x/drive_2020q4_32dp.png\"><link rel=\"stylesheet\" href=\"https://fonts.googleapis.com/css?family=Google+Sans:300  \\\n",
            "0                                               try{                                                                                                                                                                                                                                                                                                                                                                                                                                                                                                                                                                                                                                                                                                                                                                                                                                                                                                                                                                                                                                                                                                                                                                                                                                                                                                                                                                                                                                                                                                                        \n",
            "1                                                 /*                                                                                                                                                                                                                                                                                                                                                                                                                                                                                                                                                                                                                                                                                                                                                                                                                                                                                                                                                                                                                                                                                                                                                                                                                                                                                                                                                                                                                                                                                                                        \n",
            "2             Copyright The Closure Library Authors.                                                                                                                                                                                                                                                                                                                                                                                                                                                                                                                                                                                                                                                                                                                                                                                                                                                                                                                                                                                                                                                                                                                                                                                                                                                                                                                                                                                                                                                                                                                        \n",
            "3                SPDX-License-Identifier: Apache-2.0                                                                                                                                                                                                                                                                                                                                                                                                                                                                                                                                                                                                                                                                                                                                                                                                                                                                                                                                                                                                                                                                                                                                                                                                                                                                                                                                                                                                                                                                                                                        \n",
            "4                                                 */                                                                                                                                                                                                                                                                                                                                                                                                                                                                                                                                                                                                                                                                                                                                                                                                                                                                                                                                                                                                                                                                                                                                                                                                                                                                                                                                                                                                                                                                                                                        \n",
            "\n",
            "   400  500  \\\n",
            "0  NaN  NaN   \n",
            "1  NaN  NaN   \n",
            "2  NaN  NaN   \n",
            "3  NaN  NaN   \n",
            "4  NaN  NaN   \n",
            "\n",
            "  700\" nonce=\"3Ntd1L8pL-A7p8AjqyaLvA\"><link rel=\"stylesheet\" href=\"https://www.gstatic.com/_/apps-fileview/_/ss/k=apps-fileview.v.tdLy7WXfKaU.L.X.O/am=ABA/d=0/rs=AO0039tni7DjYNo6AIS8TA95G9P3JL0oFg\" nonce=\"3Ntd1L8pL-A7p8AjqyaLvA\"><script nonce=\"r1q0NA_qGSyt4dJADtsrPA\">_docs_flag_initialData={\"docs-ails\":\"docs_cold\"  \\\n",
            "0                                                NaN                                                                                                                                                                                                                                                                          \n",
            "1                                                NaN                                                                                                                                                                                                                                                                          \n",
            "2                                                NaN                                                                                                                                                                                                                                                                          \n",
            "3                                                NaN                                                                                                                                                                                                                                                                          \n",
            "4                                                NaN                                                                                                                                                                                                                                                                          \n",
            "\n",
            "  docs-fwds:\"docs_sdf\" docs-crs:\"docs_crs_nfd\" docs-fl:1 docs-l1lc:2  \\\n",
            "0                  NaN                     NaN       NaN         NaN   \n",
            "1                  NaN                     NaN       NaN         NaN   \n",
            "2                  NaN                     NaN       NaN         NaN   \n",
            "3                  NaN                     NaN       NaN         NaN   \n",
            "4                  NaN                     NaN       NaN         NaN   \n",
            "\n",
            "  docs-l1lm:\"LAS\" docs-l2lc:2  ... 0.83 0.84 0.85 0.86 1].10 [[null.2  \\\n",
            "0             NaN         NaN  ...  NaN  NaN  NaN  NaN   NaN      NaN   \n",
            "1             NaN         NaN  ...  NaN  NaN  NaN  NaN   NaN      NaN   \n",
            "2             NaN         NaN  ...  NaN  NaN  NaN  NaN   NaN      NaN   \n",
            "3             NaN         NaN  ...  NaN  NaN  NaN  NaN   NaN      NaN   \n",
            "4             NaN         NaN  ...  NaN  NaN  NaN  NaN   NaN      NaN   \n",
            "\n",
            "  null.203 null.204  \\\n",
            "0      NaN      NaN   \n",
            "1      NaN      NaN   \n",
            "2      NaN      NaN   \n",
            "3      NaN      NaN   \n",
            "4      NaN      NaN   \n",
            "\n",
            "  https://www.gstatic.com/og/_/js/k=og.qtm.en_US.3-PFNxztFuc.es5.O/rt=j/m=qabr,q_dnp,qapid/exm=qaaw,qadd,qaid,qein,qhaw,qhba,qhbr,qhch,qhga,qhid,qhin,qhpr/d=1/ed=1/rs=AA2YrTvLvuRqS2M-gwWxFtjMpnFOXLObXQ]]]]  \\\n",
            "0                                                NaN                                                                                                                                                            \n",
            "1                                                NaN                                                                                                                                                            \n",
            "2                                                NaN                                                                                                                                                            \n",
            "3                                                NaN                                                                                                                                                            \n",
            "4                                                NaN                                                                                                                                                            \n",
            "\n",
            "  };this.gbar_=this.gbar_||{};(function(_){var window=this;  \n",
            "0                                                NaN         \n",
            "1                                                NaN         \n",
            "2                                                NaN         \n",
            "3                                                NaN         \n",
            "4                                                NaN         \n",
            "\n",
            "[5 rows x 799 columns]\n"
          ]
        }
      ]
    }
  ]
}