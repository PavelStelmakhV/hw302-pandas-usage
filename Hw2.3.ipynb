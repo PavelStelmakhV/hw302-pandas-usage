{
  "nbformat": 4,
  "nbformat_minor": 0,
  "metadata": {
    "colab": {
      "provenance": [],
      "authorship_tag": "ABX9TyMvU8iL1qfb+I5InCbBzClF",
      "include_colab_link": true
    },
    "kernelspec": {
      "name": "python3",
      "display_name": "Python 3"
    },
    "language_info": {
      "name": "python"
    }
  },
  "cells": [
    {
      "cell_type": "markdown",
      "metadata": {
        "id": "view-in-github",
        "colab_type": "text"
      },
      "source": [
        "<a href=\"https://colab.research.google.com/github/PavelStelmakhV/hw302-pandas-usage/blob/main/Hw2.3.ipynb\" target=\"_parent\"><img src=\"https://colab.research.google.com/assets/colab-badge.svg\" alt=\"Open In Colab\"/></a>"
      ]
    },
    {
      "cell_type": "code",
      "execution_count": 3,
      "metadata": {
        "colab": {
          "base_uri": "https://localhost:8080/"
        },
        "id": "WJRB9EpDbXxo",
        "outputId": "cbfcfa5b-94c4-4d13-ebae-f6c30127bcb6"
      },
      "outputs": [
        {
          "output_type": "stream",
          "name": "stdout",
          "text": [
            "Mounted at /content/drive\n"
          ]
        }
      ],
      "source": [
        "import pandas as pd\n",
        "from google.colab import drive\n",
        "from google.colab import files\n",
        "drive.mount('/content/drive')"
      ]
    },
    {
      "cell_type": "markdown",
      "source": [
        "*   Прочитайте csv файл (используйте функцию read_csv)\n",
        "*   Выведите первый пять строчек (используется функцию head)\n",
        "*   Выведите размеры датасета (используйте атрибут shape)"
      ],
      "metadata": {
        "id": "kbBCo5gnh6xM"
      }
    },
    {
      "cell_type": "code",
      "source": [
        "path = '/content/drive/My Drive/'\n",
        "file_name = 'bestsellers with categories.csv'\n",
        "df = pd.read_csv(path + file_name)\n",
        "print(df.head(5))\n",
        "print(df.shape)"
      ],
      "metadata": {
        "colab": {
          "base_uri": "https://localhost:8080/"
        },
        "id": "K-spH_T-dmHk",
        "outputId": "ae938ee5-547a-4ac0-8e8f-74814a223a17"
      },
      "execution_count": 4,
      "outputs": [
        {
          "output_type": "stream",
          "name": "stdout",
          "text": [
            "                                                Name  \\\n",
            "0                      10-Day Green Smoothie Cleanse   \n",
            "1                                  11/22/63: A Novel   \n",
            "2            12 Rules for Life: An Antidote to Chaos   \n",
            "3                             1984 (Signet Classics)   \n",
            "4  5,000 Awesome Facts (About Everything!) (Natio...   \n",
            "\n",
            "                     Author  User Rating  Reviews  Price  Year        Genre  \n",
            "0                  JJ Smith          4.7    17350      8  2016  Non Fiction  \n",
            "1              Stephen King          4.6     2052     22  2011      Fiction  \n",
            "2        Jordan B. Peterson          4.7    18979     15  2018  Non Fiction  \n",
            "3             George Orwell          4.7    21424      6  2017      Fiction  \n",
            "4  National Geographic Kids          4.8     7665     12  2019  Non Fiction  \n",
            "(550, 7)\n"
          ]
        }
      ]
    },
    {
      "cell_type": "code",
      "source": [
        "len(df['name'].unique())"
      ],
      "metadata": {
        "colab": {
          "base_uri": "https://localhost:8080/"
        },
        "id": "lVcGYEGqkbs4",
        "outputId": "c43a0fbb-18d7-48a2-eff4-13063b9d5512"
      },
      "execution_count": 22,
      "outputs": [
        {
          "output_type": "execute_result",
          "data": {
            "text/plain": [
              "351"
            ]
          },
          "metadata": {},
          "execution_count": 22
        }
      ]
    },
    {
      "cell_type": "markdown",
      "source": [
        "О скольки книгах хранит данные датасет? Ответ: 351"
      ],
      "metadata": {
        "id": "QtX8kNyDWxKO"
      }
    },
    {
      "cell_type": "code",
      "source": [
        "df.columns = ['name', 'author', 'user_rating', 'reviews', 'price', 'year', 'genre']"
      ],
      "metadata": {
        "id": "aSyF0qCDHRXy"
      },
      "execution_count": 9,
      "outputs": []
    },
    {
      "cell_type": "code",
      "source": [
        "df.isna().sum()"
      ],
      "metadata": {
        "colab": {
          "base_uri": "https://localhost:8080/"
        },
        "id": "OcnnK7QRH89g",
        "outputId": "bdd80631-16b3-4d95-c1d4-d18e3d30f69f"
      },
      "execution_count": 10,
      "outputs": [
        {
          "output_type": "execute_result",
          "data": {
            "text/plain": [
              "name           0\n",
              "author         0\n",
              "user_rating    0\n",
              "reviews        0\n",
              "price          0\n",
              "year           0\n",
              "genre          0\n",
              "dtype: int64"
            ]
          },
          "metadata": {},
          "execution_count": 10
        }
      ]
    },
    {
      "cell_type": "markdown",
      "source": [
        "Есть ли в каких либо переменных пропуски? Ответ: Нет"
      ],
      "metadata": {
        "id": "DwoG00z-IHE4"
      }
    },
    {
      "cell_type": "code",
      "source": [
        "df['genre'].unique()"
      ],
      "metadata": {
        "colab": {
          "base_uri": "https://localhost:8080/"
        },
        "id": "msANlTWKIO0I",
        "outputId": "22ec1850-a9af-4ef3-fbad-fd5f3525a212"
      },
      "execution_count": 13,
      "outputs": [
        {
          "output_type": "execute_result",
          "data": {
            "text/plain": [
              "array(['Non Fiction', 'Fiction'], dtype=object)"
            ]
          },
          "metadata": {},
          "execution_count": 13
        }
      ]
    },
    {
      "cell_type": "markdown",
      "source": [
        "Какие есть уникальные жанры? Ответ: 'Non Fiction', 'Fiction'"
      ],
      "metadata": {
        "id": "TdYjfDZRJ5zd"
      }
    },
    {
      "cell_type": "code",
      "source": [
        "import matplotlib.pyplot as plt\n",
        "plt.figure(figsize = (12,8))\n",
        "df['price'].plot(kind = 'hist', bins=20)\n",
        "plt.xlabel('Price')\n",
        "plt.grid(ls = '--', axis = 'y')\n",
        "plt.show()"
      ],
      "metadata": {
        "colab": {
          "base_uri": "https://localhost:8080/",
          "height": 497
        },
        "id": "sASsAbvYUVii",
        "outputId": "349121d2-c7fd-481d-e2bb-c356323333a9"
      },
      "execution_count": 43,
      "outputs": [
        {
          "output_type": "display_data",
          "data": {
            "text/plain": [
              "<Figure size 864x576 with 1 Axes>"
            ],
            "image/png": "[encoded data removed]"
          },
          "metadata": {
            "needs_background": "light"
          }
        }
      ]
    },
    {
      "cell_type": "code",
      "source": [
        "print(df['price'].max())\n",
        "print(df['price'].min())\n",
        "print(df['price'].mean())\n",
        "print(df['price'].median())"
      ],
      "metadata": {
        "colab": {
          "base_uri": "https://localhost:8080/"
        },
        "id": "v2dV16UQcVak",
        "outputId": "924c82a5-7273-4acc-9d4f-13bc74b10015"
      },
      "execution_count": 52,
      "outputs": [
        {
          "output_type": "stream",
          "name": "stdout",
          "text": [
            "105\n",
            "0\n",
            "13.1\n",
            "11.0\n"
          ]
        }
      ]
    },
    {
      "cell_type": "markdown",
      "source": [
        "Mаксимальная цена? Ответ: 105"
      ],
      "metadata": {
        "id": "PeCgmTsgklQt"
      }
    },
    {
      "cell_type": "markdown",
      "source": [
        "Минимальная цена? Ответ: 0"
      ],
      "metadata": {
        "id": "BPhNPzlmlVXE"
      }
    },
    {
      "cell_type": "markdown",
      "source": [
        "Средняя цена? Ответ: 13.1"
      ],
      "metadata": {
        "id": "v2PEBVz7lX1s"
      }
    },
    {
      "cell_type": "markdown",
      "source": [
        "Медианная цена? Ответ: 11"
      ],
      "metadata": {
        "id": "wPuhR9zPlaIL"
      }
    },
    {
      "cell_type": "code",
      "source": [
        "df.max()"
      ],
      "metadata": {
        "colab": {
          "base_uri": "https://localhost:8080/"
        },
        "id": "yqKMSJ0FjsDu",
        "outputId": "a68d862a-4a67-4db1-d69b-43350e5035ab"
      },
      "execution_count": 51,
      "outputs": [
        {
          "output_type": "execute_result",
          "data": {
            "text/plain": [
              "name           You Are a Badass: How to Stop Doubting Your Gr...\n",
              "author                                              Zhi Gang Sha\n",
              "user_rating                                                  4.9\n",
              "reviews                                                    87841\n",
              "price                                                        105\n",
              "year                                                        2019\n",
              "genre                                                Non Fiction\n",
              "dtype: object"
            ]
          },
          "metadata": {},
          "execution_count": 51
        }
      ]
    }
  ]
}