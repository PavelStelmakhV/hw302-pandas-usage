{
  "nbformat": 4,
  "nbformat_minor": 0,
  "metadata": {
    "colab": {
      "provenance": [],
      "authorship_tag": "ABX9TyPf9jzTu1bsYkrQdW4bF8ES",
      "include_colab_link": true
    },
    "kernelspec": {
      "name": "python3",
      "display_name": "Python 3"
    },
    "language_info": {
      "name": "python"
    }
  },
  "cells": [
    {
      "cell_type": "markdown",
      "metadata": {
        "id": "view-in-github",
        "colab_type": "text"
      },
      "source": [
        "<a href=\"https://colab.research.google.com/github/PavelStelmakhV/hw302-pandas-usage/blob/main/Hw2.3.ipynb\" target=\"_parent\"><img src=\"https://colab.research.google.com/assets/colab-badge.svg\" alt=\"Open In Colab\"/></a>"
      ]
    },
    {
      "cell_type": "code",
      "execution_count": 4,
      "metadata": {
        "colab": {
          "base_uri": "https://localhost:8080/"
        },
        "id": "WJRB9EpDbXxo",
        "outputId": "2ad3285a-cefc-4920-d4f8-d03ab4eec1ef"
      },
      "outputs": [
        {
          "output_type": "stream",
          "name": "stdout",
          "text": [
            "Mounted at /content/drive\n"
          ]
        }
      ],
      "source": [
        "import pandas as pd\n",
        "try:\n",
        "  from google.colab import drive\n",
        "  drive.mount('/content/drive')\n",
        "  # загрузка файлов из колаб\n",
        "  from google.colab import files\n",
        "except:\n",
        "  print('Подключение к google-drive не выполнено. Вы просматриваете проект в другой среде. Код запущен далее.')"
      ]
    },
    {
      "cell_type": "markdown",
      "source": [
        "*   Прочитайте csv файл (используйте функцию read_csv)\n",
        "*   Выведите первый пять строчек (используется функцию head)\n",
        "*   Выведите размеры датасета (используйте атрибут shape)"
      ],
      "metadata": {
        "id": "kbBCo5gnh6xM"
      }
    },
    {
      "cell_type": "code",
      "source": [
        "path = '/content/drive/My Drive/'\n",
        "file_name = 'bestsellers with categories.csv'\n",
        "df = pd.read_csv(path + file_name)\n",
        "print(df.head(5))\n",
        "print(df.shape)"
      ],
      "metadata": {
        "colab": {
          "base_uri": "https://localhost:8080/"
        },
        "id": "K-spH_T-dmHk",
        "outputId": "0dc5f0ba-47a8-407c-9008-237732219bc1"
      },
      "execution_count": 7,
      "outputs": [
        {
          "output_type": "stream",
          "name": "stdout",
          "text": [
            "                                                Name  \\\n",
            "0                      10-Day Green Smoothie Cleanse   \n",
            "1                                  11/22/63: A Novel   \n",
            "2            12 Rules for Life: An Antidote to Chaos   \n",
            "3                             1984 (Signet Classics)   \n",
            "4  5,000 Awesome Facts (About Everything!) (Natio...   \n",
            "\n",
            "                     Author  User Rating  Reviews  Price  Year        Genre  \n",
            "0                  JJ Smith          4.7    17350      8  2016  Non Fiction  \n",
            "1              Stephen King          4.6     2052     22  2011      Fiction  \n",
            "2        Jordan B. Peterson          4.7    18979     15  2018  Non Fiction  \n",
            "3             George Orwell          4.7    21424      6  2017      Fiction  \n",
            "4  National Geographic Kids          4.8     7665     12  2019  Non Fiction  \n",
            "(550, 7)\n"
          ]
        }
      ]
    },
    {
      "cell_type": "code",
      "source": [
        "print(f'О скольки книгах хранит данные датасет? Ответ: {len(df.index)}')"
      ],
      "metadata": {
        "colab": {
          "base_uri": "https://localhost:8080/"
        },
        "id": "lVcGYEGqkbs4",
        "outputId": "e8f8d9c6-9f53-4267-c888-00f6a5cff13d"
      },
      "execution_count": 14,
      "outputs": [
        {
          "output_type": "stream",
          "name": "stdout",
          "text": [
            "О скольки книгах хранит данные датасет? Ответ: 550\n"
          ]
        }
      ]
    },
    {
      "cell_type": "code",
      "source": [
        "df['name'].unique"
      ],
      "metadata": {
        "id": "BaV5qB53luaG"
      },
      "execution_count": null,
      "outputs": []
    },
    {
      "cell_type": "markdown",
      "source": [],
      "metadata": {
        "id": "HpiLoWrpiwT-"
      }
    }
  ]
}